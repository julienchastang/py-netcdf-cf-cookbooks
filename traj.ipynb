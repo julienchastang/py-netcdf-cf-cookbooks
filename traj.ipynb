{
 "metadata": {
  "name": ""
 },
 "nbformat": 3,
 "nbformat_minor": 0,
 "worksheets": [
  {
   "cells": [
    {
     "cell_type": "code",
     "collapsed": false,
     "input": [
      "import netCDF4\n",
      "import numpy as np\n",
      "ncfile = netCDF4.Dataset('/tmp/traj.nc','w')\n",
      "\n",
      "# Creating dimensions\n",
      "obs_dim = ncfile.createDimension('obs', 5)\n",
      "trajectory_dim = ncfile.createDimension('trajectory', 2)\n",
      "\n",
      "# Creating variables\n",
      "trajectory = ncfile.createVariable('trajectory', 'i4', ('trajectory',))\n",
      "\n",
      "times = ncfile.createVariable('time','f8',('trajectory','obs'))\n",
      "times.standard_name = 'time'\n",
      "times.units = 'seconds since 1970-01-01 00:00:00 0:00'\n",
      "times.axis = 'T'\n",
      "\n",
      "# Latitude\n",
      "lat = ncfile.createVariable('lat', 'f4', ('trajectory','obs'))\n",
      "lat.units = 'degrees_north'\n",
      "lat.standard_name = 'latitude'\n",
      "lat.axis = 'Y'\n",
      "\n",
      "# Longitude\n",
      "lon = ncfile.createVariable('lon', 'f4', ('trajectory','obs'))\n",
      "lon.units = 'degrees_east'\n",
      "lon.standard_name = 'longitude'\n",
      "lon.axis = 'X'\n",
      "\n",
      "# Z\n",
      "z = ncfile.createVariable('z', 'f4', ('trajectory','obs'))\n",
      "z.units = 'meter'\n",
      "z.standard_name = 'altitude'\n",
      "z.axis = 'Z'\n",
      "z.positive = \"up\"\n",
      "\n",
      "# mean sea level pressure \n",
      "mslp = ncfile.createVariable('mslp','f4',('trajectory','obs'))\n",
      "mslp.units = 'hPa' # hecto-Pascals also known as millibars\n",
      "mslp.standard_name = 'air_pressure_at_sea_level'\n",
      "mslp.coordinates = 'time lat lon z'\n",
      "\n",
      "#global attributes\n",
      "ncfile.Conventions = 'CF-1.5'\n",
      "ncfile.Metadata_Conventions = 'Unidata Dataset Discovery v1.0'\n",
      "ncfile.featureType = 'trajectory'\n",
      "ncfile.cdm_data_type = 'Trajectory'\n",
      "ncfile.nodc_template_version = 'NODC_NetCDF_Trajectory_Template_v0.9'\n",
      "ncfile. standard_name_vocabulary = 'CF-1.5'"
     ],
     "language": "python",
     "outputs": []
    }
   ]
  }
 ]
}